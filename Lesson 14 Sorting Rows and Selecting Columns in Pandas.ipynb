{
 "cells": [
  {
   "cell_type": "markdown",
   "metadata": {},
   "source": [
    "**SA433 &#x25aa; Data Wrangling and Visualization &#x25aa; Fall 2025**"
   ]
  },
  {
   "cell_type": "markdown",
   "metadata": {},
   "source": [
    "# Lesson 14. Sorting Rows and Selecting Columns in Pandas"
   ]
  },
  {
   "cell_type": "markdown",
   "metadata": {},
   "source": [
    "## In this lesson..."
   ]
  },
  {
   "cell_type": "markdown",
   "metadata": {},
   "source": [
    "- How do we sort the rows of a DataFrame?"
   ]
  },
  {
   "cell_type": "markdown",
   "metadata": {},
   "source": [
    "- How do we select columns from a DataFrame?\n",
    "    - For that matter, how do we drop columns? Rename columns?"
   ]
  },
  {
   "cell_type": "markdown",
   "metadata": {},
   "source": [
    "- Data wrangling by method chaining"
   ]
  },
  {
   "cell_type": "markdown",
   "metadata": {},
   "source": [
    "<hr style=\"border-top: 2px solid gray; margin-top: 1px; margin-bottom: 1px\"></hr>"
   ]
  },
  {
   "cell_type": "markdown",
   "metadata": {},
   "source": [
    "## Setup"
   ]
  },
  {
   "cell_type": "markdown",
   "metadata": {},
   "source": [
    "- Let's start by importing Pandas"
   ]
  },
  {
   "cell_type": "code",
   "execution_count": null,
   "metadata": {},
   "outputs": [],
   "source": [
    "import pandas as pd"
   ]
  },
  {
   "cell_type": "markdown",
   "metadata": {},
   "source": [
    "* We'll use the nycflights13 dataset that we used in the previous lesson\n",
    "\n",
    "\n",
    "* This dataset is located in `data/nycflights13_flights.csv.zip` in the same folder as this notebook:"
   ]
  },
  {
   "cell_type": "code",
   "execution_count": null,
   "metadata": {},
   "outputs": [],
   "source": [
    "df = pd.read_csv('data/nycflights13_flights.csv.zip')"
   ]
  },
  {
   "cell_type": "markdown",
   "metadata": {},
   "source": [
    "* Just to remind ourselves what this dataset looks like:"
   ]
  },
  {
   "cell_type": "code",
   "execution_count": null,
   "metadata": {},
   "outputs": [],
   "source": [
    "df.head()"
   ]
  },
  {
   "cell_type": "markdown",
   "metadata": {},
   "source": [
    "<hr style=\"border-top: 2px solid gray; margin-top: 1px; margin-bottom: 1px\"></hr>"
   ]
  },
  {
   "cell_type": "markdown",
   "metadata": {},
   "source": [
    "## Sorting rows"
   ]
  },
  {
   "cell_type": "markdown",
   "metadata": {},
   "source": [
    "- We can sort the rows of a DataFrame with the `.sort_values()` method\n",
    "\n",
    "\n",
    "- For example, let's sort the flights of the nycflights13 dataset according to their time in the air:"
   ]
  },
  {
   "cell_type": "code",
   "execution_count": null,
   "metadata": {},
   "outputs": [],
   "source": []
  },
  {
   "cell_type": "markdown",
   "metadata": {},
   "source": [
    "- Note that the `.sort_values()` method returns a new DataFrame\n",
    "\n",
    "\n",
    "- By default, `.sort_values()` sorts the rows in ascending order\n",
    "\n",
    "\n",
    "- We can specify the sort order with the `ascending=...` keyword argument, like this:"
   ]
  },
  {
   "cell_type": "code",
   "execution_count": null,
   "metadata": {},
   "outputs": [],
   "source": []
  },
  {
   "cell_type": "markdown",
   "metadata": {},
   "source": [
    "- Note that the missing values (`NaN`) are always sorted at the end, regardless of the sort order\n",
    "\n",
    "\n",
    "- We can also provide `.sort_values()` with a *list* of column names: each additional column will be used to break ties between the values of preceding columns\n",
    "\n",
    "\n",
    "- For example, we can sort the rows by carrier and flight number, and then by year, month and day:"
   ]
  },
  {
   "cell_type": "code",
   "execution_count": null,
   "metadata": {},
   "outputs": [],
   "source": []
  },
  {
   "cell_type": "markdown",
   "metadata": {},
   "source": [
    "- We can also specify a sort order for specific columns by passing a list to the `ascending=...` keyword argument, like this:"
   ]
  },
  {
   "cell_type": "code",
   "execution_count": null,
   "metadata": {},
   "outputs": [],
   "source": []
  },
  {
   "cell_type": "markdown",
   "metadata": {},
   "source": [
    "<hr style=\"border-top: 2px solid gray; margin-top: 1px; margin-bottom: 1px\"></hr>"
   ]
  },
  {
   "cell_type": "markdown",
   "metadata": {},
   "source": [
    "## Selecting  columns"
   ]
  },
  {
   "cell_type": "markdown",
   "metadata": {},
   "source": [
    "- Sometimes, it's useful to be able to select columns so that we can focus on a particular part of the dataset\n",
    "\n",
    "\n",
    "- To select multiple columns from `df` and put them into a new DataFrame, we can use Python dictionary notation, with a *list* as the key\n",
    "\n",
    "\n",
    "- For example, we can create a *new* DataFrame with only the flight numbers and date information, like this:"
   ]
  },
  {
   "cell_type": "code",
   "execution_count": null,
   "metadata": {},
   "outputs": [],
   "source": []
  },
  {
   "cell_type": "markdown",
   "metadata": {},
   "source": [
    "- Note that the columns are reordered according to the order given in the list used as a key\n",
    "\n",
    "\n",
    "- Sometimes a DataFrame's column names have a particular structure that we might want to exploit\n",
    "\n",
    "\n",
    "- For example, several of the columns in `df` start with `dep_` or `arr_`\n",
    "\n",
    "\n",
    "- The DataFrame attribute `df.columns` contains all the column names of `df`:"
   ]
  },
  {
   "cell_type": "code",
   "execution_count": null,
   "metadata": {},
   "outputs": [],
   "source": [
    "df.columns"
   ]
  },
  {
   "cell_type": "markdown",
   "metadata": {},
   "source": [
    "- Recall that `.startswith()` is a Python built-in string method \n",
    "    - `s.startswith(prefix)` returns `True` if the string `s` starts with `prefix`, and `False` otherwise"
   ]
  },
  {
   "cell_type": "markdown",
   "metadata": {},
   "source": [
    "- We can create a new DataFrame with only those columns that start with `dep_` or `arr_` by creating a list of these column names first:"
   ]
  },
  {
   "cell_type": "code",
   "execution_count": null,
   "metadata": {},
   "outputs": [],
   "source": []
  },
  {
   "cell_type": "markdown",
   "metadata": {},
   "source": [
    "- We can be 😎 and use a list comprehension instead, requiring only 1 line of code:"
   ]
  },
  {
   "cell_type": "code",
   "execution_count": null,
   "metadata": {},
   "outputs": [],
   "source": []
  },
  {
   "cell_type": "markdown",
   "metadata": {},
   "source": [
    "<hr style=\"border-top: 2px solid gray; margin-top: 1px; margin-bottom: 1px\"></hr>"
   ]
  },
  {
   "cell_type": "markdown",
   "metadata": {},
   "source": [
    "## Dropping columns"
   ]
  },
  {
   "cell_type": "markdown",
   "metadata": {},
   "source": [
    "- We might find it easier to drop columns instead of selecting them\n",
    "\n",
    "\n",
    "- We can do this with the `.drop()` DataFrame method\n",
    "\n",
    "\n",
    "- For example, we can drop the `time_hour` variable from `df` like this:"
   ]
  },
  {
   "cell_type": "code",
   "execution_count": null,
   "metadata": {},
   "outputs": [],
   "source": []
  },
  {
   "cell_type": "markdown",
   "metadata": {},
   "source": [
    "- Don't forget the `columns=...` keyword!\n",
    "\n",
    "\n",
    "- Similar to the other DataFrame methods we've learned about so far, `.drop()` also returns a new DataFrame\n",
    "\n",
    "\n",
    "- We can drop multiple columns simultaneously in a similar fashion\n",
    "\n",
    "\n",
    "- For example, let's drop the scheduled departure and arrival times from `df`:"
   ]
  },
  {
   "cell_type": "code",
   "execution_count": null,
   "metadata": {},
   "outputs": [],
   "source": []
  },
  {
   "cell_type": "markdown",
   "metadata": {},
   "source": [
    "<hr style=\"border-top: 2px solid gray; margin-top: 1px; margin-bottom: 1px\"></hr>"
   ]
  },
  {
   "cell_type": "markdown",
   "metadata": {},
   "source": [
    "## Renaming columns"
   ]
  },
  {
   "cell_type": "markdown",
   "metadata": {},
   "source": [
    "- Sometimes, we may want to rename columns to facilitate easier wrangling or analysis\n",
    "\n",
    "\n",
    "- For example, we might have two datasets from different sources that contain the same kind of data, but in differently named columns\n",
    "\n",
    "\n",
    "- We can use the `.rename()` DataFrame method to do this\n",
    "\n",
    "\n",
    "- For example, let's rename `carrier` to `airline` and `flight` to `flight_no`:"
   ]
  },
  {
   "cell_type": "code",
   "execution_count": null,
   "metadata": {},
   "outputs": [],
   "source": []
  },
  {
   "cell_type": "markdown",
   "metadata": {},
   "source": [
    "- Like with `.drop()`, don't forget the `columns=...` keyword!\n",
    "\n",
    "\n",
    "- The `columns=...` keyword argument is a *dictionary* that maps old column names to new column names \n",
    "\n",
    "\n",
    "- Again, note that `.rename()` returns a new DataFrame"
   ]
  },
  {
   "cell_type": "markdown",
   "metadata": {},
   "source": [
    "<hr style=\"border-top: 2px solid gray; margin-top: 1px; margin-bottom: 1px\"></hr>"
   ]
  },
  {
   "cell_type": "markdown",
   "metadata": {},
   "source": [
    "## Data wrangling by method chaining"
   ]
  },
  {
   "cell_type": "markdown",
   "metadata": {},
   "source": [
    "- Why is it significant that these methods we've learned about so far return new DataFrames?"
   ]
  },
  {
   "cell_type": "markdown",
   "metadata": {},
   "source": [
    "- Since these methods act on DataFrames and return DataFrames, we can use **method chaining**\n",
    "    - We learned about method chaining at the beginning of the semester\n",
    "    - We also used method chaining extensively with Altair"
   ]
  },
  {
   "cell_type": "markdown",
   "metadata": {},
   "source": [
    "- Suppose we want to take the nycflights13 dataset and:\n",
    "    1. Keep only the flights on September 1 on United Airlines\n",
    "    2. Keep only the year, month, day, carrier, flight, origin, and destination columns\n",
    "    3. Sort the resulting data by flight number, in descending order"
   ]
  },
  {
   "cell_type": "markdown",
   "metadata": {},
   "source": [
    "- We could do each step individually, using auxiliary variables to store our intermediate steps:"
   ]
  },
  {
   "cell_type": "code",
   "execution_count": null,
   "metadata": {},
   "outputs": [],
   "source": [
    "df2 = df.query('(month == 9) and (day == 1) and (carrier == \"UA\")')\n",
    "df3 = df2[['year', 'month', 'day', 'carrier', 'flight', 'origin', 'dest']]\n",
    "df4 = df3.sort_values('flight', ascending=False)\n",
    "\n",
    "df4"
   ]
  },
  {
   "cell_type": "markdown",
   "metadata": {},
   "source": [
    "- Or, we can write a method chain to do this:"
   ]
  },
  {
   "cell_type": "code",
   "execution_count": null,
   "metadata": {},
   "outputs": [],
   "source": []
  },
  {
   "cell_type": "markdown",
   "metadata": {},
   "source": [
    "<hr style=\"border-top: 2px solid gray; margin-top: 1px; margin-bottom: 1px\"></hr>"
   ]
  },
  {
   "cell_type": "markdown",
   "metadata": {},
   "source": [
    "## Problems"
   ]
  },
  {
   "cell_type": "markdown",
   "metadata": {},
   "source": [
    "For the problems below, use the nycflights13 dataset we used in this lesson."
   ]
  },
  {
   "cell_type": "markdown",
   "metadata": {},
   "source": [
    "### Problem 1"
   ]
  },
  {
   "cell_type": "markdown",
   "metadata": {},
   "source": [
    "Find the most delayed flights. Find the flights that left the earliest."
   ]
  },
  {
   "cell_type": "code",
   "execution_count": null,
   "metadata": {},
   "outputs": [],
   "source": []
  },
  {
   "cell_type": "markdown",
   "metadata": {},
   "source": [
    "### Problem 2"
   ]
  },
  {
   "cell_type": "markdown",
   "metadata": {},
   "source": [
    "Which flights travelled the farthest? Which travelled the shortest?"
   ]
  },
  {
   "cell_type": "code",
   "execution_count": null,
   "metadata": {},
   "outputs": [],
   "source": []
  },
  {
   "cell_type": "markdown",
   "metadata": {},
   "source": [
    "### Problem 3"
   ]
  },
  {
   "cell_type": "markdown",
   "metadata": {},
   "source": [
    "Come up with 3 or more ways to select the `dep_time`, `dep_delay`, `arr_time`, and `arr_delay` columns from `df`.\n",
    "\n",
    "*Hint.* You may find [this section on built-in Python string methods](https://realpython.com/python-strings/#built-in-string-methods) from [this *Real Python* article on strings and character data](https://realpython.com/python-strings/) useful."
   ]
  },
  {
   "cell_type": "code",
   "execution_count": null,
   "metadata": {},
   "outputs": [],
   "source": []
  },
  {
   "cell_type": "markdown",
   "metadata": {},
   "source": [
    "### Problem 4"
   ]
  },
  {
   "cell_type": "markdown",
   "metadata": {},
   "source": [
    "Create a list of all Southwest (WN) flights cancelled on December 10, 2013, departing from Newark (EWR). Sort the flights in order of scheduled arrival time. Drop the following columns: `dep_time`, `arr_time`, `dep_delay`, `arr_delay`, `air_time`, `time_hour`."
   ]
  },
  {
   "cell_type": "code",
   "execution_count": null,
   "metadata": {},
   "outputs": [],
   "source": []
  },
  {
   "cell_type": "markdown",
   "metadata": {},
   "source": [
    "### Problem 5"
   ]
  },
  {
   "cell_type": "markdown",
   "metadata": {},
   "source": [
    "Create a table of all Delta (DL) flights in 2013 from JFK to LAX that arrived more than 180 minutes late, sorted in descending order of arrival delay. Select and rename the columns so that your table looks like this:\n",
    "\n",
    "<table border=\"1\" class=\"dataframe\">\n",
    "  <thead>\n",
    "    <tr style=\"text-align: right;\">\n",
    "      <th></th>\n",
    "      <th>airline</th>\n",
    "      <th>flight number</th>\n",
    "      <th>year</th>\n",
    "      <th>month</th>\n",
    "      <th>day</th>\n",
    "      <th>delay</th>\n",
    "    </tr>\n",
    "  </thead>\n",
    "  <tbody>\n",
    "    <tr>\n",
    "      <th>152312</th>\n",
    "      <td>DL</td>\n",
    "      <td>2363</td>\n",
    "      <td>2013</td>\n",
    "      <td>3</td>\n",
    "      <td>18</td>\n",
    "      <td>784.0</td>\n",
    "    </tr>\n",
    "    <tr>\n",
    "      <th>256516</th>\n",
    "      <td>DL</td>\n",
    "      <td>1163</td>\n",
    "      <td>2013</td>\n",
    "      <td>7</td>\n",
    "      <td>7</td>\n",
    "      <td>302.0</td>\n",
    "    </tr>\n",
    "    <tr>\n",
    "      <th>258671</th>\n",
    "      <td>DL</td>\n",
    "      <td>2363</td>\n",
    "      <td>2013</td>\n",
    "      <td>7</td>\n",
    "      <td>10</td>\n",
    "      <td>284.0</td>\n",
    "    </tr>\n",
    "    <tr>\n",
    "      <th>259397</th>\n",
    "      <td>DL</td>\n",
    "      <td>95</td>\n",
    "      <td>2013</td>\n",
    "      <td>7</td>\n",
    "      <td>10</td>\n",
    "      <td>274.0</td>\n",
    "    </tr>\n",
    "    <tr>\n",
    "      <th>244507</th>\n",
    "      <td>DL</td>\n",
    "      <td>95</td>\n",
    "      <td>2013</td>\n",
    "      <td>6</td>\n",
    "      <td>24</td>\n",
    "      <td>259.0</td>\n",
    "    </tr>\n",
    "    <tr>\n",
    "      <th>271972</th>\n",
    "      <td>DL</td>\n",
    "      <td>17</td>\n",
    "      <td>2013</td>\n",
    "      <td>7</td>\n",
    "      <td>23</td>\n",
    "      <td>224.0</td>\n",
    "    </tr>\n",
    "  </tbody>\n",
    "</table>"
   ]
  },
  {
   "cell_type": "code",
   "execution_count": null,
   "metadata": {},
   "outputs": [],
   "source": []
  },
  {
   "cell_type": "markdown",
   "metadata": {},
   "source": [
    "<hr style=\"border-top: 2px solid gray; margin-top: 1px; margin-bottom: 1px\"></hr>"
   ]
  },
  {
   "cell_type": "markdown",
   "metadata": {},
   "source": [
    "## Notes and sources"
   ]
  },
  {
   "cell_type": "markdown",
   "metadata": {},
   "source": [
    "- From the [Pandas User Guide](https://pandas.pydata.org/pandas-docs/stable/user_guide/):\n",
    "    - [Basics of accessing columns of a DataFrame](https://pandas.pydata.org/pandas-docs/stable/user_guide/indexing.html#basics)"
   ]
  },
  {
   "cell_type": "markdown",
   "metadata": {},
   "source": [
    "- From the [Pandas API reference](https://pandas.pydata.org/docs/reference/index.html):\n",
    "    - [`DataFrame.sort_values`](https://pandas.pydata.org/pandas-docs/stable/reference/api/pandas.DataFrame.sort_values.html)\n",
    "    - [`DataFrame.drop`](https://pandas.pydata.org/pandas-docs/stable/reference/api/pandas.DataFrame.drop.html)\n",
    "    - [`DataFrame.rename`](https://pandas.pydata.org/pandas-docs/stable/reference/api/pandas.DataFrame.rename.html)"
   ]
  },
  {
   "cell_type": "markdown",
   "metadata": {},
   "source": [
    "- Lesson and problems inspired by Chapter 5 of [R for Data Science](https://r4ds.had.co.nz/)"
   ]
  }
 ],
 "metadata": {
  "kernelspec": {
   "display_name": "Python 3 (ipykernel)",
   "language": "python",
   "name": "python3"
  },
  "language_info": {
   "codemirror_mode": {
    "name": "ipython",
    "version": 3
   },
   "file_extension": ".py",
   "mimetype": "text/x-python",
   "name": "python",
   "nbconvert_exporter": "python",
   "pygments_lexer": "ipython3",
   "version": "3.11.3"
  }
 },
 "nbformat": 4,
 "nbformat_minor": 4
}
